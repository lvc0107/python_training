{
 "cells": [
  {
   "cell_type": "markdown",
   "metadata": {},
   "source": [
    "<div class=\"clearfix\" style=\"padding: 10px; padding-left: 0px\">\n",
    "<img src=\"https://raw.githubusercontent.com/jupyter/nature-demo/master/images/jupyter-logo.png\" width=\"150px\" style=\"display: inline-block; margin-top: 5px;\">\n",
    "<a href=\"http://bit.ly/tmpnbdevrax\"><img src=\"https://cloud.githubusercontent.com/assets/836375/4916141/2732892e-64d6-11e4-980f-11afcf03ca31.png\" width=\"150px\" class=\"pull-right\" style=\"display: inline-block; margin: 0px;\"></a>\n",
    "</div>\n",
    "\n",
    "### Esta tool se llama jupyter  y esta buena para que probemos cositas online!\n",
    "\n"
   ]
  },
  {
   "cell_type": "markdown",
   "metadata": {},
   "source": [
    "### Eliminando unicode con yaml!\n",
    "\n",
    "To run the code below:\n",
    "\n",
    "1. Click on the cell to select it.\n",
    "2. Press `SHIFT+ENTER` on your keyboard or press the play button\n",
    "\n",
    "A full tutorial for using the notebook interface is available [here](ipython_examples/Notebook/Index.ipynb)."
   ]
  },
  {
   "cell_type": "code",
   "execution_count": 3,
   "metadata": {
    "collapsed": false
   },
   "outputs": [],
   "source": [
    "di = {u'additionalProperties': False, u'required': [u'id', u'symbol', u'attributes'], u'type': u'object', u'properties': {u'shortName': {u'type': u'string'}, u'attributes': {u'additionalProperties': False, u'required': [u'network', u'hostname', u'username', u'ipaddr', u'macaddr'], u'type    ': u'object', u'properties': {u'username': {u'type': u'string'}, u'macaddr': {u'type': u'string'}, u'hostname': {u'type': u'string'}, u'ipaddr': {    u'oneOf': [{u'format': u'host-name'}, {u'format': u'ipv4'}, {u'format': u'ipv6'}], u'type': u'string'}, u'network': {u'type': u'string'}}}, u'symbol': {u'type': u'string'}, u'id': {u'type': u'number'}, u'desc': {u'type': u'string'}}}\n"
   ]
  },
  {
   "cell_type": "markdown",
   "metadata": {},
   "source": [
    "**En este browser no muestra las 'u'  pero los 2 sabemos que estan**"
   ]
  },
  {
   "cell_type": "code",
   "execution_count": 4,
   "metadata": {
    "collapsed": false
   },
   "outputs": [
    {
     "data": {
      "text/plain": [
       "{'additionalProperties': False,\n",
       " 'properties': {'attributes': {'additionalProperties': False,\n",
       "   'properties': {'hostname': {'type': 'string'},\n",
       "    'ipaddr': {'oneOf': [{'format': 'host-name'},\n",
       "      {'format': 'ipv4'},\n",
       "      {'format': 'ipv6'}],\n",
       "     'type': 'string'},\n",
       "    'macaddr': {'type': 'string'},\n",
       "    'network': {'type': 'string'},\n",
       "    'username': {'type': 'string'}},\n",
       "   'required': ['network', 'hostname', 'username', 'ipaddr', 'macaddr'],\n",
       "   'type    ': 'object'},\n",
       "  'desc': {'type': 'string'},\n",
       "  'id': {'type': 'number'},\n",
       "  'shortName': {'type': 'string'},\n",
       "  'symbol': {'type': 'string'}},\n",
       " 'required': ['id', 'symbol', 'attributes'],\n",
       " 'type': 'object'}"
      ]
     },
     "execution_count": 4,
     "metadata": {},
     "output_type": "execute_result"
    }
   ],
   "source": [
    "di"
   ]
  },
  {
   "cell_type": "code",
   "execution_count": 11,
   "metadata": {
    "collapsed": true
   },
   "outputs": [],
   "source": [
    "import yaml\n",
    "import json"
   ]
  },
  {
   "cell_type": "code",
   "execution_count": 6,
   "metadata": {
    "collapsed": true
   },
   "outputs": [],
   "source": [
    " d = json.dumps(di)"
   ]
  },
  {
   "cell_type": "code",
   "execution_count": 7,
   "metadata": {
    "collapsed": true
   },
   "outputs": [],
   "source": [
    " e = yaml.safe_load(d)"
   ]
  },
  {
   "cell_type": "markdown",
   "metadata": {},
   "source": [
    "**AHORA SI  ya no estan las 'u'** "
   ]
  },
  {
   "cell_type": "code",
   "execution_count": 8,
   "metadata": {
    "collapsed": false
   },
   "outputs": [
    {
     "data": {
      "text/plain": [
       "{'additionalProperties': False,\n",
       " 'properties': {'attributes': {'additionalProperties': False,\n",
       "   'properties': {'hostname': {'type': 'string'},\n",
       "    'ipaddr': {'oneOf': [{'format': 'host-name'},\n",
       "      {'format': 'ipv4'},\n",
       "      {'format': 'ipv6'}],\n",
       "     'type': 'string'},\n",
       "    'macaddr': {'type': 'string'},\n",
       "    'network': {'type': 'string'},\n",
       "    'username': {'type': 'string'}},\n",
       "   'required': ['network', 'hostname', 'username', 'ipaddr', 'macaddr'],\n",
       "   'type    ': 'object'},\n",
       "  'desc': {'type': 'string'},\n",
       "  'id': {'type': 'number'},\n",
       "  'shortName': {'type': 'string'},\n",
       "  'symbol': {'type': 'string'}},\n",
       " 'required': ['id', 'symbol', 'attributes'],\n",
       " 'type': 'object'}"
      ]
     },
     "execution_count": 8,
     "metadata": {},
     "output_type": "execute_result"
    }
   ],
   "source": [
    "e"
   ]
  },
  {
   "cell_type": "code",
   "execution_count": null,
   "metadata": {
    "collapsed": true
   },
   "outputs": [],
   "source": []
  }
 ],
 "metadata": {
  "kernelspec": {
   "display_name": "Python 3",
   "language": "python",
   "name": "python3"
  },
  "language_info": {
   "codemirror_mode": {
    "name": "ipython",
    "version": 3
   },
   "file_extension": ".py",
   "mimetype": "text/x-python",
   "name": "python",
   "nbconvert_exporter": "python",
   "pygments_lexer": "ipython3",
   "version": "3.4.3"
  }
 },
 "nbformat": 4,
 "nbformat_minor": 0
}
